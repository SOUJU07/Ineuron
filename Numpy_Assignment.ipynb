{
  "nbformat": 4,
  "nbformat_minor": 0,
  "metadata": {
    "colab": {
      "name": "Numpy Assignment.ipynb",
      "provenance": [],
      "authorship_tag": "ABX9TyMVUbI+SkNg3GwdhzaM1Q2Q",
      "include_colab_link": true
    },
    "kernelspec": {
      "name": "python3",
      "display_name": "Python 3"
    }
  },
  "cells": [
    {
      "cell_type": "markdown",
      "metadata": {
        "id": "view-in-github",
        "colab_type": "text"
      },
      "source": [
        "<a href=\"https://colab.research.google.com/github/SOUJU07/Ineuron/blob/master/Numpy_Assignment.ipynb\" target=\"_parent\"><img src=\"https://colab.research.google.com/assets/colab-badge.svg\" alt=\"Open In Colab\"/></a>"
      ]
    },
    {
      "cell_type": "markdown",
      "metadata": {
        "id": "PQmvYD9h-IwY",
        "colab_type": "text"
      },
      "source": [
        "PROBLEM 1:\n",
        "Write a function so that the columns of the output matrix are powers of the input\n",
        "vector.\n",
        "The order of the powers is determined by the increasing boolean argument. Specifically, when\n",
        "increasing is False, the i-th output column is the input vector raised element-wise to the power\n",
        "of N - i - 1.\n",
        "HINT: Such a matrix with a geometric progression in each row is named for Alexandre-\n",
        "Theophile Vandermonde."
      ]
    },
    {
      "cell_type": "code",
      "metadata": {
        "id": "KaO-LITg_GwR",
        "colab_type": "code",
        "colab": {}
      },
      "source": [
        "import numpy as np\n",
        "\n",
        "def alex(vector,n,increasing=False):                                                #this function works same as numpy.vander\n",
        "                                                                                    #we can directly make an array and an integer into vander function by using numpy.vander\n",
        "  if increasing==True:                                                              # True makes the flow in ascending order and False makes it descending order\n",
        "    mat=np.array([x**i for x in vector for i in range(n)]).reshape(vec.size,n)\n",
        "  else:\n",
        "    mat=np.array([x**(n-i-1) for x in vector for i in range(n)]).reshape(vec.size,n)\n",
        "  return mat"
      ],
      "execution_count": 12,
      "outputs": []
    },
    {
      "cell_type": "code",
      "metadata": {
        "id": "9SSatywrAtwf",
        "colab_type": "code",
        "colab": {
          "base_uri": "https://localhost:8080/",
          "height": 101
        },
        "outputId": "c9768e33-914d-4132-b684-9e3e32e314ed"
      },
      "source": [
        "vec=np.array([1,2,3,4,5])\n",
        "n=5\n",
        "asc=alex(vec,n,True)\n",
        "asc\n"
      ],
      "execution_count": 13,
      "outputs": [
        {
          "output_type": "execute_result",
          "data": {
            "text/plain": [
              "array([[  1,   1,   1,   1,   1],\n",
              "       [  1,   2,   4,   8,  16],\n",
              "       [  1,   3,   9,  27,  81],\n",
              "       [  1,   4,  16,  64, 256],\n",
              "       [  1,   5,  25, 125, 625]])"
            ]
          },
          "metadata": {
            "tags": []
          },
          "execution_count": 13
        }
      ]
    },
    {
      "cell_type": "code",
      "metadata": {
        "id": "U-aaETVfCViT",
        "colab_type": "code",
        "colab": {
          "base_uri": "https://localhost:8080/",
          "height": 101
        },
        "outputId": "6684124c-28cc-4d06-eacb-ac13dca298f2"
      },
      "source": [
        "des=alex(vec,n,False)\n",
        "des"
      ],
      "execution_count": 14,
      "outputs": [
        {
          "output_type": "execute_result",
          "data": {
            "text/plain": [
              "array([[  1,   1,   1,   1,   1],\n",
              "       [ 16,   8,   4,   2,   1],\n",
              "       [ 81,  27,   9,   3,   1],\n",
              "       [256,  64,  16,   4,   1],\n",
              "       [625, 125,  25,   5,   1]])"
            ]
          },
          "metadata": {
            "tags": []
          },
          "execution_count": 14
        }
      ]
    },
    {
      "cell_type": "markdown",
      "metadata": {
        "id": "pCuiRIO0E9Fd",
        "colab_type": "text"
      },
      "source": [
        "Problem Statement 2:\n",
        "Given a sequence of n values x1, x2, ..., xn and a window size k>0, the k-th moving average of\n",
        "the given sequence is defined as follows:\n",
        "The moving average sequence has n-k+1 elements as shown below.\n",
        "The moving averages with k=4 of a ten-value sequence (n=10) is shown below\n",
        "i 1 2 3 4 5 6 7 8 9 10\n",
        "===== == == == == == == == == == ==\n",
        "Input 10 20 30 40 50 60 70 80 90 100\n",
        "y1 25 = (10+20+30+40)/4\n",
        "y2 35 = (20+30+40+50)/4\n",
        "y3 45 = (30+40+50+60)/4\n",
        "y4 55 = (40+50+60+70)/4\n",
        "y5 65 = (50+60+70+80)/4\n",
        "y6 75 = (60+70+80+90)/4\n",
        "y7 85 = (70+80+90+100)/4\n",
        "Thus, the moving average sequence has n-k+1=10-4+1=7 values.\n",
        "Question: Write a function to find moving average in an array over a window:\n",
        "Test it over [3, 5, 7, 2, 8, 10, 11, 65, 72, 81, 99, 100, 150] and window of 3."
      ]
    },
    {
      "cell_type": "code",
      "metadata": {
        "id": "ERTVzReFDtCp",
        "colab_type": "code",
        "colab": {}
      },
      "source": [
        "def avg(array,win):\n",
        "  z=1\n",
        "  a=np.convolve(array,np.ones(win),'valid')/win                   #convolve is an numpy function can be done in various form like full,valid etc. \n",
        "  for x in a:                                                     #numpy.convolve(a, v, mode='full')[source]\n",
        "    out=('y{0}={1:.2f}'.format(z,x))                              #Returns the discrete, linear convolution of two one-dimensional sequences.\n",
        "    z=z+1\n",
        "    print(out)"
      ],
      "execution_count": 15,
      "outputs": []
    },
    {
      "cell_type": "code",
      "metadata": {
        "id": "JpFA4EgSGUi5",
        "colab_type": "code",
        "colab": {
          "base_uri": "https://localhost:8080/",
          "height": 202
        },
        "outputId": "d2604fe9-5306-40d9-f28a-a476115cea6c"
      },
      "source": [
        "arr=np.array([3, 5, 7, 2, 8, 10, 11, 65, 72, 81, 99, 100, 150])\n",
        "win=3\n",
        "b=avg(arr,win)\n",
        "b"
      ],
      "execution_count": 16,
      "outputs": [
        {
          "output_type": "stream",
          "text": [
            "y1=5.00\n",
            "y2=4.67\n",
            "y3=5.67\n",
            "y4=6.67\n",
            "y5=9.67\n",
            "y6=28.67\n",
            "y7=49.33\n",
            "y8=72.67\n",
            "y9=84.00\n",
            "y10=93.33\n",
            "y11=116.33\n"
          ],
          "name": "stdout"
        }
      ]
    },
    {
      "cell_type": "code",
      "metadata": {
        "id": "eIi6NvUOGkCM",
        "colab_type": "code",
        "colab": {}
      },
      "source": [
        ""
      ],
      "execution_count": null,
      "outputs": []
    }
  ]
}